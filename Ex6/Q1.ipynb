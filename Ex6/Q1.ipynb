{
 "cells": [
  {
   "cell_type": "code",
   "execution_count": 1,
   "metadata": {},
   "outputs": [],
   "source": [
    "import numpy as np"
   ]
  },
  {
   "cell_type": "code",
   "execution_count": 2,
   "metadata": {},
   "outputs": [],
   "source": [
    "def f(x):\n",
    "    \n",
    "    \"\"\" defining the desired function\n",
    "    \"\"\"\n",
    "    return np.exp(-(x**2))"
   ]
  },
  {
   "cell_type": "code",
   "execution_count": 3,
   "metadata": {},
   "outputs": [],
   "source": [
    "def trapez(f, a, b, n=20):\n",
    "    \n",
    "    \"\"\" f - function to integrate\n",
    "        a - lower limit\n",
    "        b - upper limit\n",
    "        n - number of segments\n",
    "    \"\"\"\n",
    "    h = (b-a)/n    # step\n",
    "    internal_points = [2*f(a + i*h) for i in range(1,n)]\n",
    "    total_sum = (h/2)*(f(a) + sum(internal_points) + f(b))\n",
    "    \n",
    "    return total_sum"
   ]
  },
  {
   "cell_type": "code",
   "execution_count": 4,
   "metadata": {},
   "outputs": [],
   "source": [
    "def print_solution(sol, sol_name):\n",
    "    \n",
    "    \"\"\"\n",
    "    \"\"\"\n",
    "    print(f\"\\n{sol_name} solution: {sol}\")\n",
    "    print(f\"Difference from NumPy solution: {np.abs(sol - np_sol)}\")\n",
    "    print(\"-\"*100)"
   ]
  },
  {
   "cell_type": "code",
   "execution_count": 5,
   "metadata": {},
   "outputs": [
    {
     "name": "stdout",
     "output_type": "stream",
     "text": [
      "\n",
      "Analytic solution using NumPy: 0.8820813724467391\n",
      "----------------------------------------------------------------------------------------------------\n",
      "\n",
      "Trapez solution: 0.8820204403955607\n",
      "Difference from NumPy solution: 6.0932051178408386e-05\n",
      "----------------------------------------------------------------------------------------------------\n",
      "\n",
      "Richardson solution: 0.8820809835944892\n",
      "Difference from NumPy solution: 3.8885224995510725e-07\n",
      "----------------------------------------------------------------------------------------------------\n"
     ]
    }
   ],
   "source": [
    "a = 0    # lower limit\n",
    "b = 2    # upper limit\n",
    "x = np.arange(0,2,0.000001)\n",
    "np_sol = np.trapz(f(x),x)\n",
    "print(f\"\\nAnalytic solution using NumPy: {np_sol}\")\n",
    "print(\"-\"*100)\n",
    "\n",
    "trapez_sol = trapez(f,a,b)\n",
    "print_solution(trapez_sol, \"Trapez\")\n",
    "\n",
    "richardson_sol = (4*trapez(f,a,b) - trapez(f,a,b,10))/3\n",
    "print_solution(richardson_sol, \"Richardson\")"
   ]
  },
  {
   "cell_type": "code",
   "execution_count": null,
   "metadata": {},
   "outputs": [],
   "source": []
  }
 ],
 "metadata": {
  "kernelspec": {
   "display_name": "Python 3",
   "language": "python",
   "name": "python3"
  },
  "language_info": {
   "codemirror_mode": {
    "name": "ipython",
    "version": 3
   },
   "file_extension": ".py",
   "mimetype": "text/x-python",
   "name": "python",
   "nbconvert_exporter": "python",
   "pygments_lexer": "ipython3",
   "version": "3.7.3"
  }
 },
 "nbformat": 4,
 "nbformat_minor": 2
}
