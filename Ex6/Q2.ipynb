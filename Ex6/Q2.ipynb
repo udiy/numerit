{
 "cells": [
  {
   "cell_type": "code",
   "execution_count": 1,
   "metadata": {},
   "outputs": [],
   "source": [
    "import re\n",
    "import numpy as np"
   ]
  },
  {
   "cell_type": "code",
   "execution_count": 2,
   "metadata": {},
   "outputs": [],
   "source": [
    "def f(x):\n",
    "    \n",
    "    \"\"\" defining the desired function\n",
    "    \"\"\"\n",
    "    return x*np.exp(2*x)"
   ]
  },
  {
   "cell_type": "code",
   "execution_count": 3,
   "metadata": {},
   "outputs": [],
   "source": [
    "def trapez(f, a, b, n=20):\n",
    "    \n",
    "    \"\"\" evaluate integral using trapez method\n",
    "        f - function to integrate\n",
    "        a - lower limit\n",
    "        b - upper limit\n",
    "        n - number of segments\n",
    "    \"\"\"\n",
    "    h = (b-a)/n    # step\n",
    "    internal_points = [2*f(a + i*h) for i in range(1,n)]\n",
    "    total_sum = (h/2)*(f(a) + sum(internal_points) + f(b))\n",
    "    \n",
    "    return total_sum"
   ]
  },
  {
   "cell_type": "code",
   "execution_count": 4,
   "metadata": {},
   "outputs": [],
   "source": [
    "def simpson(f, a, b, n=20):\n",
    "    \n",
    "    \"\"\" evaluate integral using Simpson 1/3 method\n",
    "        f - function to integrate\n",
    "        a - lower limit\n",
    "        b - upper limit\n",
    "        n - number of segments\n",
    "    \"\"\"\n",
    "    h = (b-a)/n    # step\n",
    "    _sum = 0\n",
    "    \n",
    "    for i in range(n):\n",
    "        start = a + i*h    # starting point of the ith segment\n",
    "        end = start + h    # ending point of the ith segment\n",
    "        middle = (start+end)/2    # middle point of the ith segment\n",
    "        _sum += (f(start) + 4*f(middle) + f(end))\n",
    "        \n",
    "    return (h/6)*_sum"
   ]
  },
  {
   "cell_type": "markdown",
   "metadata": {},
   "source": [
    "### Romberg functions"
   ]
  },
  {
   "cell_type": "code",
   "execution_count": 5,
   "metadata": {},
   "outputs": [],
   "source": [
    "def while_generator(h):\n",
    "    \n",
    "    \"\"\" an helper function to use for a list comprehension\n",
    "        it returns a list generator every item a list in the list is number of segments to use for evaluation of\n",
    "        simpsons/trapez method. For example: if b-a=4 than it returns [1, 2, 4, 8, 16]\n",
    "    \"\"\"\n",
    "    n = 1    # number of segments\n",
    "    while True:\n",
    "        yield n\n",
    "        n = n*2    # increase number of semgments by a factor of 2\n",
    "        if n > h**2:    # stop if number of segments if greater than h**2 (happens when h=1/(b-a))\n",
    "            break"
   ]
  },
  {
   "cell_type": "code",
   "execution_count": 6,
   "metadata": {},
   "outputs": [],
   "source": [
    "def romberg(f, a, b, method):\n",
    "    \n",
    "    \"\"\" evaluate integral using Romberg method\n",
    "        f - function to integrate\n",
    "        a - lower limit\n",
    "        b - upper limit\n",
    "        method - either simpson or trapez\n",
    "    \"\"\"\n",
    "    h = b - a\n",
    "    I = [method(f,a,b,i) for i in while_generator(h)]    # store method evaluations in this list\n",
    "    k = 1    # index for Romberg iteration\n",
    "    \n",
    "    while True:\n",
    "        print(I)\n",
    "        n = len(I)\n",
    "        if n == 1:    # if we got to the final evaluation break the while loop and return the last evaluation\n",
    "            return I[0]\n",
    "        \n",
    "        I = [((4**k)*I[i+1] - I[i])/(4**k - 1) for i in range(n-1)]    # use Richardson formula to evaluate next level\n",
    "        k += 1"
   ]
  },
  {
   "cell_type": "markdown",
   "metadata": {},
   "source": [
    "### Quad functions"
   ]
  },
  {
   "cell_type": "code",
   "execution_count": 7,
   "metadata": {},
   "outputs": [],
   "source": [
    "def make_point_tuple(point, negative=False):\n",
    "    \n",
    "    \"\"\" takes in a list of strings, first item is point value, second is weight\n",
    "        returns a tuple of floats\n",
    "    \"\"\"\n",
    "    point_value = float(point[0])\n",
    "    weight = float(point[1])\n",
    "    if negative:\n",
    "        return (-point_value, weight)\n",
    "    return (point_value, weight)"
   ]
  },
  {
   "cell_type": "code",
   "execution_count": 8,
   "metadata": {},
   "outputs": [],
   "source": [
    "def point_string(point):\n",
    "    \n",
    "    \"\"\" takes in a point, weight represantation as string and returns a list of one tuple \n",
    "        or two tuples if there a is a plus-minus sign\n",
    "    \"\"\"\n",
    "    point = point.split()\n",
    "    if point[0] == \"±\":            \n",
    "        return [make_point_tuple(point[1:]), make_point_tuple(point[1:], negative=True)]\n",
    "    else:\n",
    "        return [make_point_tuple(point)]"
   ]
  },
  {
   "cell_type": "code",
   "execution_count": 9,
   "metadata": {},
   "outputs": [],
   "source": [
    "def points_string(points):\n",
    "    \n",
    "    \"\"\" takes in a string representing points and weights for each point, returns a list of tuples\n",
    "    \"\"\"\n",
    "    points = points.strip()    # trim spaces on the edges\n",
    "    points = points.split(\"\\n\")    # split points to a list\n",
    "    points_tuples = []\n",
    "    for point in points:\n",
    "        points_tuples += point_string(point)\n",
    "        \n",
    "    return points_tuples"
   ]
  },
  {
   "cell_type": "code",
   "execution_count": 10,
   "metadata": {},
   "outputs": [],
   "source": [
    "quad_values = \"\"\"\n",
    "2 ± 0.57735026 1.0\n",
    "3 0.0 0.88888889\n",
    "± 0.77459667 0.55555555\n",
    "4 ± 0.33998104 0.65214515\n",
    "± 0.86113631 0.34785485\n",
    "5 0.0 0.56888889\n",
    "± 0.53846931 0.47862867\n",
    "± 0.90617985 0.23692689\n",
    "6 ± 0.23861918 0.46791393\n",
    "± 0.66120939 0.36076157\n",
    "± 0.93246951 0.17132449\n",
    "7 0.0 0.41795918\n",
    "± 0.40584515 0.38183005\n",
    "± 0.74153119 0.27970539\n",
    "± 0.94910791 0.12948497\n",
    "8 ± 0.18343464 0.36268378\n",
    "± 0.52553241 0.31370665\n",
    "± 0.79666648 0.22238103\n",
    "± 0.96028986 0.10122854\n",
    "10 ± 0.14887434 0.29552422\n",
    "± 0.43339539 0.26926672\n",
    "± 0.67940957 0.21908636\n",
    "± 0.86506337 0.14945135\n",
    "± 0.97390653 0.06667134\n",
    "\"\"\""
   ]
  },
  {
   "cell_type": "code",
   "execution_count": 11,
   "metadata": {},
   "outputs": [],
   "source": [
    "def quadrature(f, a, b, quad_values):\n",
    "    \n",
    "    \"\"\"\n",
    "    \"\"\"\n",
    "    # handling quad_values string, make it a useable data structure\n",
    "    idx = re.findall(\"\\\\n\\d{1,2}\", quad_values)\n",
    "    points = re.split(\"\\\\n\\d{1,2}\",quad_values)[1:]\n",
    "    n_cases = len(idx)\n",
    "    idx = [int(idx[i][1:]) for i in range(n_cases)]\n",
    "    quad_values_dict = {idx[i]: points_string(points[i]) for i in range(n_cases)}\n",
    "    \n",
    "    for n,pts in quad_values_dict.items():\n",
    "        I = sum([((b-a)/2)*p[1]*f(((b-a)/2)*p[0] + (b+a)/2) for p in pts])\n",
    "        print(f\"Quad {n} points: {I}\")\n",
    "        \n",
    "    return I"
   ]
  },
  {
   "cell_type": "markdown",
   "metadata": {},
   "source": [
    "### Main"
   ]
  },
  {
   "cell_type": "code",
   "execution_count": 12,
   "metadata": {},
   "outputs": [],
   "source": [
    "def print_solution(sol, sol_name):\n",
    "    \n",
    "    \"\"\"\n",
    "    \"\"\"\n",
    "    print(f\"\\n{sol_name} solution: {sol}\")\n",
    "    print(f\"Difference from NumPy solution: {np.abs(sol - np_sol)}\")\n",
    "    print(\"-\"*100)"
   ]
  },
  {
   "cell_type": "code",
   "execution_count": 13,
   "metadata": {},
   "outputs": [
    {
     "name": "stdout",
     "output_type": "stream",
     "text": [
      "\n",
      "Analytic solution using NumPy: 5216.914553506726\n",
      "----------------------------------------------------------------------------------------------------\n",
      "\n",
      "Trapez solution: 5306.061744875085\n",
      "Difference from NumPy solution: 89.14719136835902\n",
      "----------------------------------------------------------------------------------------------------\n",
      "\n",
      "Simpson solution: 5216.998930470129\n",
      "Difference from NumPy solution: 0.08437696340297407\n",
      "----------------------------------------------------------------------------------------------------\n",
      "\n",
      "Romberg\n",
      "[8240.411432288045, 5670.9754315360115, 5256.753502612331, 5219.6754602990595, 5217.102808733796]\n",
      "[4814.496764618667, 5118.679526304438, 5207.316112861302, 5216.245258212042]\n",
      "[5138.958377083489, 5213.22521863176, 5216.840534568759]\n",
      "[5214.404057386495, 5216.897920536013]\n",
      "[5216.907700391501]\n",
      "\n",
      "Romberg solution: 5216.907700391501\n",
      "Difference from NumPy solution: 0.006853115225567308\n",
      "----------------------------------------------------------------------------------------------------\n",
      "\n",
      "Quad\n",
      "Quad 2 points: 3477.543789104365\n",
      "Quad 3 points: 4967.106658212111\n",
      "Quad 4 points: 5197.543750342689\n",
      "Quad 5 points: 5215.987780348352\n",
      "Quad 6 points: 5216.895416929594\n",
      "Quad 7 points: 5216.925811047143\n",
      "Quad 8 points: 5216.926560028994\n",
      "Quad 10 points: 5216.9264210239735\n",
      "\n",
      "Quad solution: 5216.9264210239735\n",
      "Difference from NumPy solution: 0.011867517247083015\n",
      "----------------------------------------------------------------------------------------------------\n"
     ]
    }
   ],
   "source": [
    "a = 0    # lower limit\n",
    "b = 4    # upper limit\n",
    "x = np.arange(a,b,0.000001)\n",
    "np_sol = np.trapz(f(x),x)\n",
    "print(f\"\\nAnalytic solution using NumPy: {np_sol}\")\n",
    "print(\"-\"*100)\n",
    "\n",
    "trapez_sol = trapez(f,a,b)\n",
    "print_solution(trapez_sol, \"Trapez\")\n",
    "\n",
    "simpson_sol = simpson(f,a,b)\n",
    "print_solution(simpson_sol, \"Simpson\")\n",
    "\n",
    "print(\"\\nRomberg\")\n",
    "romberg_sol = romberg(f,a,b,simpson)\n",
    "print_solution(romberg_sol, \"Romberg\")\n",
    "\n",
    "print(\"\\nQuad\")\n",
    "quadrature_sol = quadrature(f,a,b,quad_values)\n",
    "print_solution(quadrature_sol, \"Quad\")"
   ]
  },
  {
   "cell_type": "code",
   "execution_count": null,
   "metadata": {},
   "outputs": [],
   "source": []
  }
 ],
 "metadata": {
  "kernelspec": {
   "display_name": "Python 3",
   "language": "python",
   "name": "python3"
  },
  "language_info": {
   "codemirror_mode": {
    "name": "ipython",
    "version": 3
   },
   "file_extension": ".py",
   "mimetype": "text/x-python",
   "name": "python",
   "nbconvert_exporter": "python",
   "pygments_lexer": "ipython3",
   "version": "3.7.3"
  }
 },
 "nbformat": 4,
 "nbformat_minor": 2
}
