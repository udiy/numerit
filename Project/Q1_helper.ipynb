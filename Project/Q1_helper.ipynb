{
 "cells": [
  {
   "cell_type": "code",
   "execution_count": 1,
   "metadata": {},
   "outputs": [],
   "source": [
    "import numpy as np"
   ]
  },
  {
   "cell_type": "code",
   "execution_count": 2,
   "metadata": {},
   "outputs": [],
   "source": [
    "def solve_banded_system(x,y,h):\n",
    "    \n",
    "    \"\"\" takes in lists of x,y values and h values and cosntruct a banded system (tridiagonal matrix). \n",
    "        solves the system and returns result\n",
    "    \"\"\"\n",
    "    n_unknowns = len(x) - 2    # number of unknowns\n",
    "    \n",
    "    A = np.zeros((n_unknowns,n_unknowns))\n",
    "    v = np.zeros(n_unknowns)\n",
    "        \n",
    "    for i in range(n_unknowns):\n",
    "        A[i][i] = 2*(h[i] + h[i+1])\n",
    "        v[i] = 6*((y[i+2]-y[i+1])/h[i+1] - (y[i+1]-y[i])/h[i])\n",
    "    \n",
    "    for i in range(n_unknowns-1):\n",
    "        A[i][i+1] = h[i+1]\n",
    "        A[i+1][i] = h[i+1]\n",
    "    \n",
    "    return np.linalg.solve(A, v)"
   ]
  },
  {
   "cell_type": "code",
   "execution_count": 3,
   "metadata": {},
   "outputs": [],
   "source": [
    "def construct_splines(fx_mapping):\n",
    "    \n",
    "    \"\"\" takes in a sequence of (x,y) points and for each section between two points calculates a cubic spline\n",
    "    \"\"\"\n",
    "    n_points = len(fx_mapping)    # number of points\n",
    "    n_splines = n_points - 1    # number of splines\n",
    "    \n",
    "    x = [item[0] for item in fx_mapping]    # get x values\n",
    "    y = [item[1] for item in fx_mapping]    # get y values\n",
    "    h = [x[i+1] - x[i] for i in range(n_splines)]    # calculate h values from x values\n",
    "    \n",
    "    # for each point calculate a value (store in m) - this value will be later used to calculate all coefficients\n",
    "    m = np.zeros(n_points)\n",
    "    m[1:-1] = solve_banded_system(x,y,h)\n",
    "    \n",
    "    # create a structured array to store spline coefficients and section lim[i]ts\n",
    "    splines = np.zeros(n_splines, dtype=[(\"start\", np.float64), (\"end\", np.float64), (\"coefs\",np.float64, 4)])\n",
    "    \n",
    "    # calculate coefficients using predefined, well known formulas\n",
    "    for i in range(n_splines):\n",
    "        \n",
    "        c1 = (m[i+1]-m[i])/(6*h[i])\n",
    "        c2 = (x[i+1]*m[i] - x[i]*m[i+1])/(2*h[i])\n",
    "        c3 = (x[i]**2*m[i+1] - x[i+1]**2*m[i])/(2*h[i]) + (y[i+1]-y[i])/h[i] + (m[i]-m[i+1])*h[i]/6\n",
    "        c4 = (x[i+1]**3*m[i]-x[i]**3*m[i+1])/(6*h[i]) + (x[i+1]*y[i]-x[i]*y[i+1])/h[i] + (x[i]*m[i+1]-x[i+1]*m[i])*h[i]/6\n",
    "        \n",
    "        splines[i][\"start\"] = x[i]\n",
    "        splines[i][\"end\"] = x[i+1]\n",
    "        splines[i][\"coefs\"] = [c1,c2,c3,c4]\n",
    "        \n",
    "    return splines"
   ]
  },
  {
   "cell_type": "code",
   "execution_count": 4,
   "metadata": {},
   "outputs": [],
   "source": [
    "def make_func(coefs):\n",
    "    \n",
    "    \"\"\" coefs is a list/array of a polynomial coefficients.\n",
    "        returns a convenient function that calculates function value at given point x\n",
    "    \"\"\"\n",
    "    n = len(coefs)\n",
    "    \n",
    "    def f(x):\n",
    "        return sum([coefs[i]*x**(n-1-i)  for i in range(n)])\n",
    "    \n",
    "    return f"
   ]
  },
  {
   "cell_type": "code",
   "execution_count": 6,
   "metadata": {},
   "outputs": [],
   "source": [
    "def calculate_cubic_spline(fx_mapping, h):\n",
    "    \n",
    "    \"\"\"\n",
    "    \"\"\"\n",
    "    splines = construct_splines(fx_mapping)\n",
    "    \n",
    "    x = []\n",
    "    f = [] # unify all section splines into one big list\n",
    "\n",
    "    for spl in splines:\n",
    "        start = spl[\"start\"]\n",
    "        end = spl[\"end\"]\n",
    "        \n",
    "        if spl==splines[-1]:    # it this is the last section, include last point\n",
    "            x_spl = np.arange(start,end+1,h)\n",
    "        else:\n",
    "            x_spl = np.arange(start,end,h)\n",
    "        \n",
    "        f_spl = make_func(spl[\"coefs\"])\n",
    "        \n",
    "        x += list(x_spl)\n",
    "        f += list(f_spl(x_spl))\n",
    "        \n",
    "    n = len(f)\n",
    "    return {x[i]:f[i] for i in range(n)}"
   ]
  },
  {
   "cell_type": "code",
   "execution_count": null,
   "metadata": {},
   "outputs": [],
   "source": []
  }
 ],
 "metadata": {
  "kernelspec": {
   "display_name": "Python 3",
   "language": "python",
   "name": "python3"
  },
  "language_info": {
   "codemirror_mode": {
    "name": "ipython",
    "version": 3
   },
   "file_extension": ".py",
   "mimetype": "text/x-python",
   "name": "python",
   "nbconvert_exporter": "python",
   "pygments_lexer": "ipython3",
   "version": "3.7.3"
  }
 },
 "nbformat": 4,
 "nbformat_minor": 2
}
