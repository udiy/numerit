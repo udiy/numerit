{
 "cells": [
  {
   "cell_type": "code",
   "execution_count": 1,
   "metadata": {
    "scrolled": true,
    "tags": [
     "hidecode"
    ]
   },
   "outputs": [],
   "source": [
    "import numpy as np\n",
    "import matplotlib.pyplot as plt\n",
    "\n",
    "%matplotlib inline"
   ]
  },
  {
   "cell_type": "code",
   "execution_count": 2,
   "metadata": {
    "scrolled": true
   },
   "outputs": [],
   "source": [
    "def evaluate_polynomial(poly, x):\n",
    "    \n",
    "    \"\"\" evaluate polynomial value at a given point x\n",
    "        poly - List containing polynomial coefficients, highest order on the left, \n",
    "                last item on the list is the free coefficient\n",
    "    \"\"\"\n",
    "    _sum = 0\n",
    "    \n",
    "    order = len(poly) - 1\n",
    "    \n",
    "    # create a new list, every item in this list is mekadem*(x**order). then sum the list\n",
    "    _sum = sum([m*(x**i) for m,i in zip(poly, range(order,-1,-1))])\n",
    "    \n",
    "    return _sum"
   ]
  },
  {
   "cell_type": "code",
   "execution_count": 3,
   "metadata": {
    "scrolled": true
   },
   "outputs": [],
   "source": [
    "def evaluate_derivative(poly, x):\n",
    "    \n",
    "    \"\"\" evaluate the derivative of a polynomial at a given point x\n",
    "    \"\"\"\n",
    "    # find a near point to x, so the difference between them is infinitesimal (0.0001)\n",
    "    x1 = x - 0.0001\n",
    "    \n",
    "    # evaluate the value of the polynomial at both points x and x1\n",
    "    fx = evaluate_polynomial(poly, x)\n",
    "    fx1 = evaluate_polynomial(poly, x1)\n",
    "    \n",
    "    # calculate derivative as usual\n",
    "    derivative = (fx - fx1)/(x - x1)\n",
    "    return derivative"
   ]
  },
  {
   "cell_type": "code",
   "execution_count": 4,
   "metadata": {
    "scrolled": true
   },
   "outputs": [],
   "source": [
    "def polynomial_division(poly, divisor):\n",
    "    \n",
    "    \"\"\" poly - polynomial to be divided\n",
    "        divisor - polynomial to divide by\n",
    "    \"\"\"\n",
    "    # new_poly is the result polynomial of the division\n",
    "    new_poly = []\n",
    "    \n",
    "    while len(poly) >= len(divisor):\n",
    "        # divide the highest order coefficients from poly and divisor to find a coefficient for new_poly\n",
    "        mekadem = poly[0]/divisor[0]\n",
    "        new_poly.append(mekadem)\n",
    "        \n",
    "        # multiply the divisor by the coefficient we found in the previous step, to get the polynomial to subtract from poly\n",
    "        subtract_poly = [mekadem*m for m in divisor]\n",
    "        \n",
    "        # if subtract poly order is less than poly order, add 0's at the end of subtract poly. \n",
    "        # this is to ensure both lists have the same length so we can subtract the two polynomials\n",
    "        order_diff = len(poly) - len(subtract_poly)\n",
    "        for i in range(0, order_diff):\n",
    "            subtract_poly.append(0)\n",
    "            \n",
    "        # calculate the new poly from after subtraction\n",
    "        poly = [a-b for a,b in zip(poly, subtract_poly)]\n",
    "        \n",
    "        # if the coefficients of the on the left are zero, remove them from the list\n",
    "        poly = np.trim_zeros(poly,\"f\")\n",
    "    \n",
    "    # remainder is the polynom that remains when the order of poly is less than the order of divisor\n",
    "    remainder = ([0] if poly==[] else poly)\n",
    "    \n",
    "    return new_poly, remainder"
   ]
  },
  {
   "cell_type": "code",
   "execution_count": 5,
   "metadata": {
    "scrolled": true
   },
   "outputs": [],
   "source": [
    "def bisection_find_root(poly, limits, epsilon, i=1, max_i=4):\n",
    "    \n",
    "    \"\"\" poly - polynomial of interest\n",
    "        limits - a tuple of lower limit and upper limit. Assumption: the limits are NOT roots. Example: (-3,5)\n",
    "        epsilon - Order of precision. Examples: 10**-4, 10**-1\n",
    "        i - iteration number\n",
    "        max_i - maximal number of iterations allowed\n",
    "    \"\"\"\n",
    "    llim, ulim = limits\n",
    "    mid_point = (llim + ulim)/2\n",
    "    \n",
    "    # if reached maximal number of iterations return mid point\n",
    "    if i>max_i:\n",
    "        return mid_point\n",
    "    \n",
    "    # if the segment is smaller than epsilon, return its mid point\n",
    "    if abs(ulim-llim) < epsilon:\n",
    "        return mid_point\n",
    "    \n",
    "    # evaluate polynomial at mid point, if its smaller than epsilon return mid point\n",
    "    poly_value_mid_point = evaluate_polynomial(poly, mid_point)\n",
    "    if np.abs(poly_value_mid_point) <= epsilon:\n",
    "        return mid_point\n",
    "    \n",
    "    # evaluate polynomial at lower limit\n",
    "    poly_value_llim = evaluate_polynomial(poly, llim)\n",
    "    \n",
    "    # check if there is a root in the segment between lower limit and mid point. \n",
    "    # If true define this segment as the new segment and repeat bisection for this segment\n",
    "    if poly_value_llim*poly_value_mid_point < 0:\n",
    "        limits = (llim, mid_point)\n",
    "    # else repeat bisection for segment between mid point and upper limit\n",
    "    else:\n",
    "        limits = (mid_point, ulim)\n",
    "    \n",
    "    return bisection_find_root(poly, limits, epsilon, i=i+1)"
   ]
  },
  {
   "cell_type": "code",
   "execution_count": 12,
   "metadata": {
    "scrolled": true
   },
   "outputs": [],
   "source": [
    "def newton_raphson(poly, x_guess, epsilon, i=1):\n",
    "    \n",
    "    \"\"\" \n",
    "    \"\"\"\n",
    "    # evaluate polynomial at x_guess\n",
    "    poly_value_x_guess = evaluate_polynomial(poly, x_guess)\n",
    "    \n",
    "    # if polynomial value at x_guess is close enough to zero, return it\n",
    "    if np.abs(poly_value_x_guess) <= epsilon:\n",
    "        return x_guess\n",
    "    \n",
    "    # evaluate derivative and use it in Newton Raphson formula to calculate a new guess\n",
    "    poly_derivative_x_guess = evaluate_derivative(poly, x_guess)\n",
    "    \n",
    "    # make sure derivative is not zero before calculating next iteration\n",
    "    if poly_derivative_x_guess != 0:\n",
    "        x_new_guess = x_guess - (poly_value_x_guess/poly_derivative_x_guess)\n",
    "    else:\n",
    "        return x_guess\n",
    "    return newton_raphson(poly, x_new_guess, epsilon, i=i+1)"
   ]
  },
  {
   "cell_type": "code",
   "execution_count": 7,
   "metadata": {
    "scrolled": true
   },
   "outputs": [],
   "source": [
    "def synthetic_divison(poly, x_guess, epsilon, i=1):\n",
    "    \n",
    "    \"\"\"\n",
    "    \"\"\"\n",
    "    divisor = [1, -x_guess]\n",
    "    \n",
    "    # calculate the remainders\n",
    "    poly0, remainder0 = polynomial_division(poly, divisor)\n",
    "    poly1, remainder1 = polynomial_division(poly0, divisor)\n",
    "    R0 = remainder0[0]\n",
    "    R1 = remainder1[0]\n",
    "    \n",
    "    # calculate the next x, with synthetic division formula\n",
    "    if R1 != 0:\n",
    "        x_new_guess = x_guess - (R0/R1)\n",
    "    else:\n",
    "        x_new_guess = x_guess\n",
    "    \n",
    "    # if there is a convergence return x_new_guess\n",
    "    if np.abs(x_new_guess - x_guess) < epsilon:\n",
    "        return x_new_guess\n",
    "    \n",
    "    # if no convergence, calculate another iteration\n",
    "    return synthetic_divison(poly,x_new_guess, epsilon, i=i+1)"
   ]
  },
  {
   "cell_type": "code",
   "execution_count": 8,
   "metadata": {
    "scrolled": true
   },
   "outputs": [],
   "source": [
    "def find_roots(poly, method):\n",
    "    \n",
    "    \"\"\" a wrapper function, gets a method, either newton_raphson or synthetic_divison.\n",
    "    \"\"\"\n",
    "    # find to polynomial order to know how many roots (iterations) we have\n",
    "    poly_order = len(poly)-1\n",
    "    \n",
    "    # all the roots we will find, will be appended to this list\n",
    "    roots = []\n",
    "    \n",
    "    # get the first guess with bisection method\n",
    "    guess = bisection_find_root(poly, limits=(-3,5), epsilon=epsilon)\n",
    "\n",
    "    for i in range(poly_order):\n",
    "        # calculate a root and append it to list of roots\n",
    "        root = method(poly, guess, epsilon=epsilon)\n",
    "        roots.append(root)\n",
    "        \n",
    "        # diminish polynomial order, by dividing it by a polynomial based on the root found\n",
    "        divisor = [1, -root]\n",
    "        poly, _ = polynomial_division(poly,divisor)\n",
    "    \n",
    "    roots.sort()\n",
    "    print(f\"* Roots of the polynomial, calculated with {method.__name__}:\")    \n",
    "    print(f\"\\n\\t{roots}\\n\\n\")\n",
    "    print(\"-\"*100)\n",
    "    \n",
    "    return roots"
   ]
  },
  {
   "cell_type": "code",
   "execution_count": 9,
   "metadata": {},
   "outputs": [],
   "source": [
    "def check_precision(numeric_roots, analytic_roots, method_name=None):\n",
    "    \n",
    "    \"\"\" make sure every root is within the precision limit of 10**-4\n",
    "    \"\"\"\n",
    "    # if method_name provided\n",
    "    if method_name:\n",
    "        method_name = method_name\n",
    "    else:\n",
    "        method_name = \"YOUR METHOD\"\n",
    "        \n",
    "    if all([a-b < epsilon for a,b in zip(numeric_roots, analytic_roots)]):\n",
    "        print(f\"* All the roots calculated with {method_name} are within the limit of\\\n",
    "            \\n\\t{epsilon} precision with respect to the Numpy roots\\n\")\n",
    "    else:\n",
    "        print(f\"* At least one of the roots calculated with {method_name} is not within the precision limit!\\n\")\n",
    "    print(\"-\"*100)"
   ]
  },
  {
   "cell_type": "code",
   "execution_count": 29,
   "metadata": {},
   "outputs": [],
   "source": [
    "def plot_polynomial(poly, limits, png_name=None):\n",
    "    \n",
    "    \"\"\"\n",
    "    \"\"\"\n",
    "    llim, ulim = limits\n",
    "    x = np.linspace(llim, ulim, 1000)\n",
    "\n",
    "    f = evaluate_polynomial(poly, x)\n",
    "\n",
    "    ax = plt.figure(figsize=(16,9))\n",
    "    plt.plot(x, f)\n",
    "    ax.axes[0].axhline(linewidth=1.5, color='black')\n",
    "    ax.axes[0].axvline(linewidth=1.5, color='black')\n",
    "\n",
    "    plt.grid()\n",
    "    \n",
    "    if png_name:\n",
    "        plt.savefig(f\"{png_name}.png\", bbox_inches=\"tight\")\n",
    "    else:\n",
    "        plt.show()"
   ]
  },
  {
   "cell_type": "code",
   "execution_count": 14,
   "metadata": {},
   "outputs": [
    {
     "name": "stdout",
     "output_type": "stream",
     "text": [
      "\tEnter polynomial in a form of a list. For example [1,2,-7,0,3]\n",
      "\tOr type '#' to exit\n",
      "\n",
      "\t[1,2,-7,0,3]\n",
      "* Roots of the polynomial, calculated with newton_raphson:\n",
      "\n",
      "\t[-3.7912918438096934, -0.6180286854312288, 0.7912850447974852, 1.6180354844311333]\n",
      "\n",
      "\n",
      "----------------------------------------------------------------------------------------------------\n",
      "* Roots of the polynomial, calculated with synthetic_divison:\n",
      "\n",
      "\t[-3.7912878473186793, -0.6180339892755388, 0.7912878478390712, 1.6180339887551471]\n",
      "\n",
      "\n",
      "----------------------------------------------------------------------------------------------------\n",
      "* Roots calculated with numpy:\n",
      "\n",
      "\t[-3.79128785 -0.61803399  0.79128785  1.61803399]\n",
      "\n",
      "----------------------------------------------------------------------------------------------------\n",
      "* All the roots calculated with Newton Raphson are within the limit of            \n",
      "\t0.0001 precision with respect to the Numpy roots\n",
      "\n",
      "----------------------------------------------------------------------------------------------------\n",
      "* All the roots calculated with synthetic division are within the limit of            \n",
      "\t0.0001 precision with respect to the Numpy roots\n",
      "\n",
      "----------------------------------------------------------------------------------------------------\n",
      "\tEnter polynomial in a form of a list. For example [1,2,-7,0,3]\n",
      "\tOr type '#' to exit\n",
      "\n",
      "\t[1,0,-9]\n",
      "* Roots of the polynomial, calculated with newton_raphson:\n",
      "\n",
      "\t[-3.0000000000266454, 3.0]\n",
      "\n",
      "\n",
      "----------------------------------------------------------------------------------------------------\n",
      "* Roots of the polynomial, calculated with synthetic_divison:\n",
      "\n",
      "\t[-3.0, 3.0]\n",
      "\n",
      "\n",
      "----------------------------------------------------------------------------------------------------\n",
      "* Roots calculated with numpy:\n",
      "\n",
      "\t[-3.  3.]\n",
      "\n",
      "----------------------------------------------------------------------------------------------------\n",
      "* All the roots calculated with Newton Raphson are within the limit of            \n",
      "\t0.0001 precision with respect to the Numpy roots\n",
      "\n",
      "----------------------------------------------------------------------------------------------------\n",
      "* All the roots calculated with synthetic division are within the limit of            \n",
      "\t0.0001 precision with respect to the Numpy roots\n",
      "\n",
      "----------------------------------------------------------------------------------------------------\n",
      "\tEnter polynomial in a form of a list. For example [1,2,-7,0,3]\n",
      "\tOr type '#' to exit\n",
      "\n",
      "\t#\n",
      "----------------------------------------------------------------------------------------------------\n",
      "\tThank you, come again!\n"
     ]
    }
   ],
   "source": [
    "while True:\n",
    "    \n",
    "    poly = input(\"\\tEnter polynomial in a form of a list. For example [1,2,-7,0,3]\\n\\tOr type '#' to exit\\n\\n\\t\")\n",
    "    \n",
    "    if poly == \"#\":\n",
    "        print(\"-\"*100)\n",
    "        print(\"\\tThank you, come again!\")\n",
    "        break\n",
    "    \n",
    "    poly = [int(x) for x in poly.strip(\"[]\").split(\",\")]\n",
    "    epsilon = 10**-4\n",
    "\n",
    "\n",
    "    # calculate roots with Newton Raphson\n",
    "    nr_roots = find_roots(poly, newton_raphson)\n",
    "\n",
    "\n",
    "    # calculate roots with synthetic division\n",
    "    sd_roots = find_roots(poly, synthetic_divison)\n",
    "\n",
    "\n",
    "    # show the roots calculated with numpy\n",
    "    np_poly = np.poly1d(poly)\n",
    "    np_roots = np_poly.roots\n",
    "    # sort the numbers for highest to lowest\n",
    "    np_roots.sort()\n",
    "    print(\"* Roots calculated with numpy:\")\n",
    "    print(f\"\\n\\t{np_roots}\\n\")\n",
    "    print(\"-\"*100)\n",
    "\n",
    "\n",
    "    # check precision for Newton Raphson against numpy roots\n",
    "    check_precision(nr_roots, np_roots, method_name=\"Newton Raphson\")\n",
    "\n",
    "    # check precision for synthetic division against numpy roots\n",
    "    check_precision(sd_roots, np_roots, method_name=\"synthetic division\")"
   ]
  },
  {
   "cell_type": "code",
   "execution_count": 38,
   "metadata": {},
   "outputs": [],
   "source": [
    "poly = [1,2,-7,0,3]"
   ]
  },
  {
   "cell_type": "code",
   "execution_count": 39,
   "metadata": {
    "tags": [
     "hidecode"
    ]
   },
   "outputs": [
    {
     "data": {
      "image/png": "[encoded data removed]",
      "text/plain": [
       "<Figure size 1152x648 with 1 Axes>"
      ]
     },
     "metadata": {},
     "output_type": "display_data"
    }
   ],
   "source": [
    "plot_polynomial(poly,(-5,3))"
   ]
  },
  {
   "cell_type": "code",
   "execution_count": 40,
   "metadata": {},
   "outputs": [
    {
     "data": {
      "image/png": "[encoded data removed]",
      "text/plain": [
       "<Figure size 1152x648 with 1 Axes>"
      ]
     },
     "metadata": {},
     "output_type": "display_data"
    }
   ],
   "source": [
    "plot_polynomial(poly,(-4,2))"
   ]
  }
 ],
 "metadata": {
  "kernelspec": {
   "display_name": "Python 3",
   "language": "python",
   "name": "python3"
  },
  "language_info": {
   "codemirror_mode": {
    "name": "ipython",
    "version": 3
   },
   "file_extension": ".py",
   "mimetype": "text/x-python",
   "name": "python",
   "nbconvert_exporter": "python",
   "pygments_lexer": "ipython3",
   "version": "3.6.5"
  }
 },
 "nbformat": 4,
 "nbformat_minor": 2
}
