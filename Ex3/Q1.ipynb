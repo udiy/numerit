{
 "cells": [
  {
   "cell_type": "code",
   "execution_count": 1,
   "metadata": {},
   "outputs": [],
   "source": [
    "import numpy as np"
   ]
  },
  {
   "cell_type": "code",
   "execution_count": 2,
   "metadata": {},
   "outputs": [],
   "source": [
    "A = np.array([\n",
    "        [3,-3,2,-4],\n",
    "        [-2,-1,3,-1],\n",
    "        [5,-2,-3,2],\n",
    "        [-2,4,1,2]\n",
    "    ], dtype=np.float64)\n",
    "\n",
    "b = np.array([\n",
    "    [7.9],\n",
    "    [-12.5],\n",
    "    [18],\n",
    "    [-8.1]\n",
    "])"
   ]
  },
  {
   "cell_type": "code",
   "execution_count": 3,
   "metadata": {},
   "outputs": [],
   "source": [
    "A_test = np.array([\n",
    "        [0,10,-7],\n",
    "        [6,2,3],\n",
    "        [5,-1,5]\n",
    "    ], dtype=np.float64)\n",
    "\n",
    "b_test = np.array([\n",
    "    [3],\n",
    "    [11],\n",
    "    [9]\n",
    "])"
   ]
  },
  {
   "cell_type": "code",
   "execution_count": 4,
   "metadata": {},
   "outputs": [],
   "source": [
    "def division_or_warning(a,b):\n",
    "    \n",
    "    \"\"\" divide a by b (a/b) and return the result\n",
    "        if b is zero, do nothing, and print a warning\n",
    "    \"\"\"\n",
    "    if b != 0:\n",
    "        return a/b\n",
    "    else:\n",
    "        print(\"Division by zero is not possible!\")\n",
    "        return None"
   ]
  },
  {
   "cell_type": "code",
   "execution_count": 50,
   "metadata": {},
   "outputs": [],
   "source": [
    "def is_triangular(A):\n",
    "    \n",
    "    \"\"\" check if matrix A is triangular than return if it is upper or lower triangular\n",
    "    \"\"\"\n",
    "    m,n = A.shape\n",
    "    \n",
    "    # verify number of rows and number of columns are the same\n",
    "    if m != n:\n",
    "        print(\"Your matrix is not a square matrix! Aborting substitution!\")\n",
    "        return\n",
    "    else:\n",
    "        lower = True\n",
    "        upper = True\n",
    "        # iterate n-1 iterations and count number of zeros\n",
    "        for i in range(0,n-1):\n",
    "            if lower:\n",
    "                # make sure the first i elements of the i+1 row are zero\n",
    "                num_of_zeros_lower = np.count_nonzero(A[i+1][:i+1])\n",
    "                if num_of_zeros_lower != 0:\n",
    "                    lower = False\n",
    "            if upper:\n",
    "                # or the last n-(i+1) elements of the i row are zero\n",
    "                num_of_zeros_upper = np.count_nonzero(A[i][i+1:])\n",
    "                if num_of_zeros_upper != 0:\n",
    "                    upper = False\n",
    "            # if we found out the matrix is not upper or lower triangular, break out from the for loop\n",
    "            if not (upper or lower):\n",
    "                break\n",
    "        \n",
    "        if lower and not upper:\n",
    "            return \"lower\"\n",
    "        elif upper and not lower:\n",
    "            return \"upper\"\n",
    "        elif lower and upper:\n",
    "            print(\"Your matrix is diagonal\")\n",
    "            return None\n",
    "        print(\"Could not classify your matrix as either lower or upper triangular\")\n",
    "        return None\n",
    "        \n",
    "        "
   ]
  },
  {
   "cell_type": "code",
   "execution_count": 6,
   "metadata": {},
   "outputs": [],
   "source": [
    "def substitution(A,b):\n",
    "    \n",
    "    \"\"\" perform forward or backward substitution for a triangular matrix.\n",
    "        Upper triangular - all elements in the upper triangle are 0 - forward substitution\n",
    "        Lower triangular - all elements in the lower triangle are 0 - backward substitution\n",
    "    \"\"\"\n",
    "    # x is variables vector, has the same dimensions as b\n",
    "    x = np.ones_like(b)\n",
    "    m = x.shape[0]\n",
    "    \n",
    "    # verify this is triangular matrix then determine subs type\n",
    "    tr_type = is_triangular(A)\n",
    "    \n",
    "    # determine variables start, end and step for the for loop to calculate x vector\n",
    "    # if this is an upper triangular matrix set the the variables for forward substitution\n",
    "    if tr_type == \"upper\":\n",
    "        start = 0\n",
    "        end = m\n",
    "        step = 1\n",
    "    # if this is an lower triangular matrix set the the variables for backward substitution\n",
    "    elif tr_type == \"lower\":\n",
    "        start = m - 1\n",
    "        end = -1\n",
    "        step = -1\n",
    "    else:\n",
    "        print(\"Cannot perform substitution with your matrix\")\n",
    "        return\n",
    "    \n",
    "    # calculate xi with the substitution formula\n",
    "    for i in range(start, end, step):\n",
    "        _sum = sum([A[i][j] * x[j] for j in range(start, i, step)])\n",
    "        \n",
    "        normalize_factor = division_or_warning(1,A[i][i])        \n",
    "        if normalize_factor:\n",
    "            x[i] = (normalize_factor * (b[i] - _sum))\n",
    "            \n",
    "        \n",
    "    return x"
   ]
  },
  {
   "cell_type": "code",
   "execution_count": 7,
   "metadata": {},
   "outputs": [],
   "source": [
    "def gauss_elimanation(A,b):\n",
    "    \n",
    "    \"\"\" A - coefficient matrix\n",
    "        b - solution vector\n",
    "    \"\"\"\n",
    "    # add solution vector b as another column at the end of matrix A\n",
    "    C = np.c_[A, b]\n",
    "    \n",
    "    # get number of rows in C\n",
    "    m = C.shape[0]\n",
    "    \n",
    "    for i in range(m):\n",
    "        pivot_element = C[i][i]\n",
    "        \n",
    "        # for the rows below that row, subtract this row, so the lower triangle of the matrix is all zeros\n",
    "        for j in range(i+1, m):\n",
    "            normalize_factor = division_or_warning(C[j][i],pivot_element)\n",
    "            if normalize_factor:\n",
    "                C[j] = C[j] - (normalize_factor)*C[i]\n",
    "                \n",
    "    lower_tr_A = C[:,:-1]\n",
    "    new_b = C[:,-1:]\n",
    "    return lower_tr_A, new_b"
   ]
  },
  {
   "cell_type": "code",
   "execution_count": 8,
   "metadata": {},
   "outputs": [
    {
     "data": {
      "text/plain": [
       "array([[ 3.1],\n",
       "       [ 0.8],\n",
       "       [-2.3],\n",
       "       [-1.4]])"
      ]
     },
     "execution_count": 8,
     "metadata": {},
     "output_type": "execute_result"
    }
   ],
   "source": [
    "A_elimanated, b_elimanated = gauss_elimanation(A,b)\n",
    "substitution(A_elimanated, b_elimanated)"
   ]
  },
  {
   "cell_type": "code",
   "execution_count": 9,
   "metadata": {},
   "outputs": [
    {
     "name": "stdout",
     "output_type": "stream",
     "text": [
      "Division by zero is not possible!\n",
      "Division by zero is not possible!\n",
      "Could not classify your matrix as either lower or upper triangular\n",
      "Cannot perform substitution with your matrix\n"
     ]
    }
   ],
   "source": [
    "A_test_elimanated, b_test_elimanated = gauss_elimanation(A_test, b_test)\n",
    "substitution(A_test_elimanated, b_test_elimanated)"
   ]
  },
  {
   "cell_type": "code",
   "execution_count": 10,
   "metadata": {},
   "outputs": [],
   "source": [
    "def lu_decomposition(A,b):\n",
    "    \n",
    "    \"\"\"\n",
    "    \"\"\"\n",
    "    # get number of rows in A, assuming a is n by n matrix\n",
    "    n = A.shape[0]\n",
    "    \n",
    "    # initialize L as n by n I matrix\n",
    "    L = np.eye(n)\n",
    "    \n",
    "    U = A.copy()\n",
    "    \n",
    "    for i in range(1,n):\n",
    "        \n",
    "        # for row index i in A (zero indexed) we need i zeros to get U, and we need to calculate i elements for L\n",
    "        # j is the index of the column, A[j][j] and U[j][j] are the elements on the diagonal, for the j-th column\n",
    "        for j in range(i):\n",
    "            L[i][j] = division_or_warning(A[i][j], A[j][j])\n",
    "            \n",
    "            uij = division_or_warning(U[i][j],U[j][j])\n",
    "            if uij:\n",
    "                U[i] = U[i] - uij*U[j]\n",
    "            \n",
    "    print(A)\n",
    "    \n",
    "    return L,U"
   ]
  },
  {
   "cell_type": "code",
   "execution_count": 11,
   "metadata": {},
   "outputs": [
    {
     "name": "stdout",
     "output_type": "stream",
     "text": [
      "[[ 3. -3.  2. -4.]\n",
      " [-2. -1.  3. -1.]\n",
      " [ 5. -2. -3.  2.]\n",
      " [-2.  4.  1.  2.]]\n"
     ]
    },
    {
     "data": {
      "text/plain": [
       "(array([[ 1.        ,  0.        ,  0.        ,  0.        ],\n",
       "        [-0.66666667,  1.        ,  0.        ,  0.        ],\n",
       "        [ 1.66666667,  2.        ,  1.        ,  0.        ],\n",
       "        [-0.66666667, -4.        , -0.33333333,  1.        ]]),\n",
       " array([[ 3.        , -3.        ,  2.        , -4.        ],\n",
       "        [ 0.        , -3.        ,  4.33333333, -3.66666667],\n",
       "        [ 0.        ,  0.        , -2.        ,  5.        ],\n",
       "        [ 0.        ,  0.        ,  0.        ,  9.94444444]]))"
      ]
     },
     "execution_count": 11,
     "metadata": {},
     "output_type": "execute_result"
    }
   ],
   "source": [
    "lu_decomposition(A,b)"
   ]
  },
  {
   "cell_type": "code",
   "execution_count": null,
   "metadata": {},
   "outputs": [],
   "source": []
  }
 ],
 "metadata": {
  "kernelspec": {
   "display_name": "Python 3",
   "language": "python",
   "name": "python3"
  },
  "language_info": {
   "codemirror_mode": {
    "name": "ipython",
    "version": 3
   },
   "file_extension": ".py",
   "mimetype": "text/x-python",
   "name": "python",
   "nbconvert_exporter": "python",
   "pygments_lexer": "ipython3",
   "version": "3.6.5"
  }
 },
 "nbformat": 4,
 "nbformat_minor": 2
}
