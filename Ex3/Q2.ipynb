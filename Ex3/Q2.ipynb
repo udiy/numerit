{
 "cells": [
  {
   "cell_type": "code",
   "execution_count": 1,
   "metadata": {},
   "outputs": [],
   "source": [
    "import numpy as np\n",
    "import import_ipynb\n",
    "from Q1 import lu_decomposition, substitution, gauss_elimanation"
   ]
  },
  {
   "cell_type": "code",
   "execution_count": 2,
   "metadata": {},
   "outputs": [],
   "source": [
    "A = np.array([\n",
    "    [4,8,4,0],\n",
    "    [1,4,7,2],\n",
    "    [1,5,4,-3],\n",
    "    [1,3,0,-2]\n",
    "], dtype=np.float64)"
   ]
  },
  {
   "cell_type": "code",
   "execution_count": 3,
   "metadata": {},
   "outputs": [
    {
     "name": "stdout",
     "output_type": "stream",
     "text": [
      "Matrix L:\n",
      "\n",
      "[[1.         0.         0.         0.        ]\n",
      " [0.25       1.         0.         0.        ]\n",
      " [0.25       1.5        1.         0.        ]\n",
      " [0.25       0.5        0.66666667 1.        ]]\n",
      "\n",
      "\n",
      "Matrix U:\n",
      "\n",
      "[[ 4.  8.  4.  0.]\n",
      " [ 0.  2.  6.  2.]\n",
      " [ 0.  0. -6. -6.]\n",
      " [ 0.  0.  0.  1.]]\n",
      "\n",
      "\n",
      "  -1\n",
      "AA \t- Matrix multiplication of A and its inverse:\n",
      "[[1 0 0 0]\n",
      " [0 1 0 0]\n",
      " [0 0 1 0]\n",
      " [0 0 0 1]]\n"
     ]
    }
   ],
   "source": [
    "L, U = lu_decomposition(A)\n",
    "\n",
    "print(\"Matrix L:\\n\")\n",
    "print(L)\n",
    "print(\"\\n\\nMatrix U:\\n\")\n",
    "print(U)\n",
    "\n",
    "\n",
    "m, n = A.shape\n",
    "I = np.eye(n)\n",
    "# B is the inverse of A\n",
    "B = np.zeros_like(A, dtype=np.float64)\n",
    "\n",
    "\n",
    "# calculate columns of B\n",
    "for i in range(n):\n",
    "    # get the i column of I\n",
    "    c = I[:,i:i+1]\n",
    "    z = substitution(L, c)\n",
    "    i_col_B = substitution(U, z)\n",
    "    B[:,i:i+1] = i_col_B\n",
    "    \n",
    "\n",
    "A_dot_B = np.dot(B,A).astype(np.int64)    \n",
    "print(\"\\n\\n  -1\")\n",
    "print(\"AA \\t- Matrix multiplication of A and its inverse:\")\n",
    "print(A_dot_B)"
   ]
  },
  {
   "cell_type": "code",
   "execution_count": null,
   "metadata": {},
   "outputs": [],
   "source": []
  }
 ],
 "metadata": {
  "kernelspec": {
   "display_name": "Python 3",
   "language": "python",
   "name": "python3"
  },
  "language_info": {
   "codemirror_mode": {
    "name": "ipython",
    "version": 3
   },
   "file_extension": ".py",
   "mimetype": "text/x-python",
   "name": "python",
   "nbconvert_exporter": "python",
   "pygments_lexer": "ipython3",
   "version": "3.6.5"
  }
 },
 "nbformat": 4,
 "nbformat_minor": 2
}
