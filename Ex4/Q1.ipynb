{
 "cells": [
  {
   "cell_type": "code",
   "execution_count": 1,
   "metadata": {},
   "outputs": [],
   "source": [
    "import numpy as np"
   ]
  },
  {
   "cell_type": "code",
   "execution_count": 2,
   "metadata": {},
   "outputs": [],
   "source": [
    "# each key value pair is x as the key, and fx as the value\n",
    "fx_mapping = { -1:3, 0:1, 2:2 }\n",
    "x = -0.5"
   ]
  },
  {
   "cell_type": "code",
   "execution_count": 3,
   "metadata": {},
   "outputs": [],
   "source": [
    "def construct_vandermonde_matrix(x_values):\n",
    "    \n",
    "    \"\"\" create a vandermonde matrix\n",
    "    \"\"\"\n",
    "    n = len(x_values)\n",
    "    x_values = list(x_values)\n",
    "    \n",
    "    vandermonde = np.zeros((n,n))\n",
    "    for i in range(n):\n",
    "        x = x_values[i]\n",
    "        for j in range(n):\n",
    "            vandermonde[i][j] = x**j\n",
    "    \n",
    "    return vandermonde"
   ]
  },
  {
   "cell_type": "code",
   "execution_count": 4,
   "metadata": {},
   "outputs": [],
   "source": [
    "def yeshara(fx_mapping, x):\n",
    "    \n",
    "    \"\"\" fx_mapping - dict of x:fx values\n",
    "        x - point to evaluate function at\n",
    "    \"\"\"\n",
    "    x_values = fx_mapping.keys()\n",
    "    fx_values = np.array(list(fx_mapping.values()))\n",
    "    \n",
    "    # calculate coefficient for polynom\n",
    "    vandermonde_matrix = construct_vandermonde_matrix(x_values)\n",
    "    coef_vec = np.linalg.solve(vandermonde_matrix, fx_values)\n",
    "    \n",
    "    # evaluate polynom at x\n",
    "    n = coef_vec.shape[0]\n",
    "    poly_at_x = sum([coef_vec[i]*(x**i) for i in range(n)])\n",
    "    \n",
    "    return poly_at_x"
   ]
  },
  {
   "cell_type": "code",
   "execution_count": 5,
   "metadata": {},
   "outputs": [],
   "source": [
    "def calculate_lagrange_weight(x_values, i, x):\n",
    "    \n",
    "    \"\"\" x_values - list of x_values\n",
    "        i - index of L\n",
    "        x - point of evaluation of L \n",
    "    \"\"\"\n",
    "    n = len(x_values)\n",
    "    L = 1\n",
    "    \n",
    "    for j in range(n):\n",
    "        if j != i:\n",
    "            xj = x_values[j]\n",
    "            xi = x_values[i]\n",
    "            L *= (x - xj)/(xi - xj)\n",
    "            \n",
    "    return L"
   ]
  },
  {
   "cell_type": "code",
   "execution_count": 6,
   "metadata": {},
   "outputs": [],
   "source": [
    "def lagrange(fx_mapping, x):\n",
    "    \n",
    "    \"\"\" fx_mapping - dict of x:fx values\n",
    "        x - point to evaluate function at\n",
    "    \"\"\"\n",
    "    x_values = list(fx_mapping.keys())\n",
    "    fx_values = list(fx_mapping.values())\n",
    "    \n",
    "    n = len(fx_mapping)\n",
    "    poly_at_x = []\n",
    "    \n",
    "    for i in range(n):\n",
    "        \n",
    "        # calculate L - lagrange weight at i, x\n",
    "        L = calculate_lagrange_weight(x_values, i, x)\n",
    "        \n",
    "        # multiply by fx and append to list\n",
    "        poly_at_x.append(L*fx_values[i])\n",
    "        \n",
    "    return sum(poly_at_x)"
   ]
  },
  {
   "cell_type": "code",
   "execution_count": 13,
   "metadata": {},
   "outputs": [
    {
     "name": "stdout",
     "output_type": "stream",
     "text": [
      "\n",
      "    Results:\n",
      "            Yeshara: f(-0.5) = 1.7916666666666663\n",
      "            Lagrange: f(-0.5) = 1.7916666666666667\n",
      "\n"
     ]
    }
   ],
   "source": [
    "result_yeshara = yeshara(fx_mapping, x)\n",
    "result_lagrange = lagrange(fx_mapping, x)\n",
    "\n",
    "print(f\"\"\"\n",
    "    Results:\n",
    "            Yeshara: f({x}) = {result_yeshara}\n",
    "            Lagrange: f({x}) = {result_lagrange}\n",
    "\"\"\")"
   ]
  },
  {
   "cell_type": "code",
   "execution_count": null,
   "metadata": {},
   "outputs": [],
   "source": []
  }
 ],
 "metadata": {
  "kernelspec": {
   "display_name": "Python 3",
   "language": "python",
   "name": "python3"
  },
  "language_info": {
   "codemirror_mode": {
    "name": "ipython",
    "version": 3
   },
   "file_extension": ".py",
   "mimetype": "text/x-python",
   "name": "python",
   "nbconvert_exporter": "python",
   "pygments_lexer": "ipython3",
   "version": "3.6.5"
  }
 },
 "nbformat": 4,
 "nbformat_minor": 2
}
